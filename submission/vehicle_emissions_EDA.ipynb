{
 "cells": [
  {
   "cell_type": "code",
   "execution_count": 1,
   "id": "ebc82e26-f5e7-49fa-8e53-bef2966d332d",
   "metadata": {},
   "outputs": [],
   "source": [
    "# Dependencies\n",
    "import pandas as pd\n",
    "import numpy as np\n",
    "import matplotlib.pyplot as plt\n",
    "import seaborn as sns\n",
    "from scipy.stats import linregress\n",
    "from sklearn.linear_model import LinearRegression\n",
    "from sklearn.metrics import r2_score"
   ]
  },
  {
   "cell_type": "code",
   "execution_count": 2,
   "id": "13523765-8669-4ece-b45c-abda92422998",
   "metadata": {},
   "outputs": [
    {
     "data": {
      "text/html": [
       "<div>\n",
       "<style scoped>\n",
       "    .dataframe tbody tr th:only-of-type {\n",
       "        vertical-align: middle;\n",
       "    }\n",
       "\n",
       "    .dataframe tbody tr th {\n",
       "        vertical-align: top;\n",
       "    }\n",
       "\n",
       "    .dataframe thead th {\n",
       "        text-align: right;\n",
       "    }\n",
       "</style>\n",
       "<table border=\"1\" class=\"dataframe\">\n",
       "  <thead>\n",
       "    <tr style=\"text-align: right;\">\n",
       "      <th></th>\n",
       "      <th>car_id</th>\n",
       "      <th>manufacturer</th>\n",
       "      <th>model</th>\n",
       "      <th>description</th>\n",
       "      <th>transmission</th>\n",
       "      <th>transmission_type</th>\n",
       "      <th>engine_size_cm3</th>\n",
       "      <th>fuel</th>\n",
       "      <th>powertrain</th>\n",
       "      <th>power_ps</th>\n",
       "      <th>co2_emissions_gPERkm</th>\n",
       "    </tr>\n",
       "  </thead>\n",
       "  <tbody>\n",
       "    <tr>\n",
       "      <th>0</th>\n",
       "      <td>1.0</td>\n",
       "      <td>ABARTH</td>\n",
       "      <td>595</td>\n",
       "      <td>1.4 TJET 145bhp</td>\n",
       "      <td>M5</td>\n",
       "      <td>Manual</td>\n",
       "      <td>1368.0</td>\n",
       "      <td>Petrol</td>\n",
       "      <td>Internal Combustion Engine (ICE)</td>\n",
       "      <td>145.0</td>\n",
       "      <td>161.0</td>\n",
       "    </tr>\n",
       "    <tr>\n",
       "      <th>1</th>\n",
       "      <td>2.0</td>\n",
       "      <td>ABARTH</td>\n",
       "      <td>595</td>\n",
       "      <td>1.4 TJET 145bhp</td>\n",
       "      <td>M5</td>\n",
       "      <td>Manual</td>\n",
       "      <td>1368.0</td>\n",
       "      <td>Petrol</td>\n",
       "      <td>Internal Combustion Engine (ICE)</td>\n",
       "      <td>145.0</td>\n",
       "      <td>153.0</td>\n",
       "    </tr>\n",
       "    <tr>\n",
       "      <th>2</th>\n",
       "      <td>3.0</td>\n",
       "      <td>ABARTH</td>\n",
       "      <td>595</td>\n",
       "      <td>595 1.4 145 BHP</td>\n",
       "      <td>M5</td>\n",
       "      <td>Manual</td>\n",
       "      <td>1368.0</td>\n",
       "      <td>Petrol</td>\n",
       "      <td>Internal Combustion Engine (ICE)</td>\n",
       "      <td>145.0</td>\n",
       "      <td>169.0</td>\n",
       "    </tr>\n",
       "    <tr>\n",
       "      <th>3</th>\n",
       "      <td>4.0</td>\n",
       "      <td>ABARTH</td>\n",
       "      <td>595</td>\n",
       "      <td>595 1.4 145 BHP</td>\n",
       "      <td>M5</td>\n",
       "      <td>Manual</td>\n",
       "      <td>1368.0</td>\n",
       "      <td>Petrol</td>\n",
       "      <td>Internal Combustion Engine (ICE)</td>\n",
       "      <td>145.0</td>\n",
       "      <td>162.0</td>\n",
       "    </tr>\n",
       "    <tr>\n",
       "      <th>4</th>\n",
       "      <td>5.0</td>\n",
       "      <td>ABARTH</td>\n",
       "      <td>595</td>\n",
       "      <td>595 1.4 145 BHP Convertible</td>\n",
       "      <td>M5</td>\n",
       "      <td>Manual</td>\n",
       "      <td>1368.0</td>\n",
       "      <td>Petrol</td>\n",
       "      <td>Internal Combustion Engine (ICE)</td>\n",
       "      <td>145.0</td>\n",
       "      <td>169.0</td>\n",
       "    </tr>\n",
       "  </tbody>\n",
       "</table>\n",
       "</div>"
      ],
      "text/plain": [
       "   car_id manufacturer model                  description transmission  \\\n",
       "0     1.0       ABARTH   595              1.4 TJET 145bhp           M5   \n",
       "1     2.0       ABARTH   595              1.4 TJET 145bhp           M5   \n",
       "2     3.0       ABARTH   595             595 1.4 145 BHP            M5   \n",
       "3     4.0       ABARTH   595              595 1.4 145 BHP           M5   \n",
       "4     5.0       ABARTH   595  595 1.4 145 BHP Convertible           M5   \n",
       "\n",
       "  transmission_type  engine_size_cm3    fuel  \\\n",
       "0            Manual           1368.0  Petrol   \n",
       "1            Manual           1368.0  Petrol   \n",
       "2            Manual           1368.0  Petrol   \n",
       "3            Manual           1368.0  Petrol   \n",
       "4            Manual           1368.0  Petrol   \n",
       "\n",
       "                         powertrain  power_ps  co2_emissions_gPERkm  \n",
       "0  Internal Combustion Engine (ICE)     145.0                 161.0  \n",
       "1  Internal Combustion Engine (ICE)     145.0                 153.0  \n",
       "2  Internal Combustion Engine (ICE)     145.0                 169.0  \n",
       "3  Internal Combustion Engine (ICE)     145.0                 162.0  \n",
       "4  Internal Combustion Engine (ICE)     145.0                 169.0  "
      ]
     },
     "execution_count": 2,
     "metadata": {},
     "output_type": "execute_result"
    }
   ],
   "source": [
    "# read raw csv\n",
    "# encoding = \"ISO-8859-1\" Ty TA Reed\n",
    "file = \"Resources/uk_gov_data_sparse_preproc.csv\"\n",
    "df_raw = pd.read_csv(file, encoding=\"ISO-8859-1\")\n",
    "df_raw.head()"
   ]
  },
  {
   "cell_type": "code",
   "execution_count": 3,
   "id": "4560ace6-4e2f-45b1-a6c0-596a50d80bbd",
   "metadata": {},
   "outputs": [
    {
     "name": "stdout",
     "output_type": "stream",
     "text": [
      "<class 'pandas.core.frame.DataFrame'>\n",
      "RangeIndex: 6756 entries, 0 to 6755\n",
      "Data columns (total 11 columns):\n",
      " #   Column                Non-Null Count  Dtype  \n",
      "---  ------                --------------  -----  \n",
      " 0   car_id                6756 non-null   float64\n",
      " 1   manufacturer          6756 non-null   object \n",
      " 2   model                 6756 non-null   object \n",
      " 3   description           6756 non-null   object \n",
      " 4   transmission          6609 non-null   object \n",
      " 5   transmission_type     6756 non-null   object \n",
      " 6   engine_size_cm3       6755 non-null   float64\n",
      " 7   fuel                  6756 non-null   object \n",
      " 8   powertrain            6756 non-null   object \n",
      " 9   power_ps              6712 non-null   float64\n",
      " 10  co2_emissions_gPERkm  6756 non-null   float64\n",
      "dtypes: float64(4), object(7)\n",
      "memory usage: 580.7+ KB\n"
     ]
    }
   ],
   "source": [
    "# Many null values, we need to investigate\n",
    "df_raw.info()"
   ]
  },
  {
   "cell_type": "code",
   "execution_count": 4,
   "id": "a727a9c4-be51-4352-8814-f8e262494a37",
   "metadata": {},
   "outputs": [
    {
     "name": "stdout",
     "output_type": "stream",
     "text": [
      "<class 'pandas.core.frame.DataFrame'>\n",
      "Index: 6654 entries, 0 to 6755\n",
      "Data columns (total 11 columns):\n",
      " #   Column                Non-Null Count  Dtype  \n",
      "---  ------                --------------  -----  \n",
      " 0   car_id                6654 non-null   float64\n",
      " 1   manufacturer          6654 non-null   object \n",
      " 2   model                 6654 non-null   object \n",
      " 3   description           6654 non-null   object \n",
      " 4   transmission          6608 non-null   object \n",
      " 5   transmission_type     6654 non-null   object \n",
      " 6   engine_size_cm3       6654 non-null   float64\n",
      " 7   fuel                  6654 non-null   object \n",
      " 8   powertrain            6654 non-null   object \n",
      " 9   power_ps              6618 non-null   float64\n",
      " 10  co2_emissions_gPERkm  6654 non-null   float64\n",
      "dtypes: float64(4), object(7)\n",
      "memory usage: 623.8+ KB\n"
     ]
    }
   ],
   "source": [
    "# Locate, Identify, and drop car ID's with an electric transmission (they dont emit co2)\n",
    "e_transmission_i = df_raw[(df_raw.transmission_type == \"Electric - Not Applicable\")].index\n",
    "df_emissions_raw = df_raw.drop(e_transmission_i)\n",
    "df_emissions_raw.info()"
   ]
  },
  {
   "cell_type": "code",
   "execution_count": 5,
   "id": "0036c4b1-8808-4a33-8a79-39ed79fd5572",
   "metadata": {},
   "outputs": [
    {
     "name": "stdout",
     "output_type": "stream",
     "text": [
      "<class 'pandas.core.frame.DataFrame'>\n",
      "Index: 6642 entries, 0 to 6755\n",
      "Data columns (total 11 columns):\n",
      " #   Column                Non-Null Count  Dtype  \n",
      "---  ------                --------------  -----  \n",
      " 0   car_id                6642 non-null   float64\n",
      " 1   manufacturer          6642 non-null   object \n",
      " 2   model                 6642 non-null   object \n",
      " 3   description           6642 non-null   object \n",
      " 4   transmission          6597 non-null   object \n",
      " 5   transmission_type     6642 non-null   object \n",
      " 6   engine_size_cm3       6642 non-null   float64\n",
      " 7   fuel                  6642 non-null   object \n",
      " 8   powertrain            6642 non-null   object \n",
      " 9   power_ps              6606 non-null   float64\n",
      " 10  co2_emissions_gPERkm  6642 non-null   float64\n",
      "dtypes: float64(4), object(7)\n",
      "memory usage: 622.7+ KB\n"
     ]
    }
   ],
   "source": [
    "null_ps = df_emissions_raw[(df_emissions_raw.power_ps == 0)].index\n",
    "df_emissions = df_emissions_raw.drop(null_ps)\n",
    "df_emissions.info()"
   ]
  },
  {
   "cell_type": "code",
   "execution_count": 6,
   "id": "4281b9e2-9a3e-436d-9755-223836d533c4",
   "metadata": {},
   "outputs": [
    {
     "name": "stdout",
     "output_type": "stream",
     "text": [
      "<class 'pandas.core.frame.DataFrame'>\n",
      "Index: 6606 entries, 0 to 6755\n",
      "Data columns (total 11 columns):\n",
      " #   Column                Non-Null Count  Dtype  \n",
      "---  ------                --------------  -----  \n",
      " 0   car_id                6606 non-null   float64\n",
      " 1   manufacturer          6606 non-null   object \n",
      " 2   model                 6606 non-null   object \n",
      " 3   description           6606 non-null   object \n",
      " 4   transmission          6563 non-null   object \n",
      " 5   transmission_type     6606 non-null   object \n",
      " 6   engine_size_cm3       6606 non-null   float64\n",
      " 7   fuel                  6606 non-null   object \n",
      " 8   powertrain            6606 non-null   object \n",
      " 9   power_ps              6606 non-null   float64\n",
      " 10  co2_emissions_gPERkm  6606 non-null   float64\n",
      "dtypes: float64(4), object(7)\n",
      "memory usage: 619.3+ KB\n"
     ]
    }
   ],
   "source": [
    "df_emissions1 = df_emissions.dropna(subset=[\"power_ps\"])\n",
    "df_emissions1.info()"
   ]
  },
  {
   "cell_type": "code",
   "execution_count": 7,
   "id": "d7e360b7-cbce-48d6-bde6-bdbf623f85c1",
   "metadata": {},
   "outputs": [
    {
     "name": "stdout",
     "output_type": "stream",
     "text": [
      "<class 'pandas.core.frame.DataFrame'>\n",
      "Index: 6542 entries, 0 to 6755\n",
      "Data columns (total 11 columns):\n",
      " #   Column                Non-Null Count  Dtype  \n",
      "---  ------                --------------  -----  \n",
      " 0   car_id                6542 non-null   float64\n",
      " 1   manufacturer          6542 non-null   object \n",
      " 2   model                 6542 non-null   object \n",
      " 3   description           6542 non-null   object \n",
      " 4   transmission          6542 non-null   object \n",
      " 5   transmission_type     6542 non-null   object \n",
      " 6   engine_size_cm3       6542 non-null   float64\n",
      " 7   fuel                  6542 non-null   object \n",
      " 8   powertrain            6542 non-null   object \n",
      " 9   power_ps              6542 non-null   float64\n",
      " 10  co2_emissions_gPERkm  6542 non-null   float64\n",
      "dtypes: float64(4), object(7)\n",
      "memory usage: 613.3+ KB\n"
     ]
    }
   ],
   "source": [
    "null_emissions = df_emissions1[(df_emissions1.co2_emissions_gPERkm == 0)].index\n",
    "df_emissions_clean = df_emissions1.drop(null_emissions)\n",
    "df_emissions_clean.info()"
   ]
  },
  {
   "cell_type": "code",
   "execution_count": null,
   "id": "0a22f916-3429-442a-820f-d08c820e4b28",
   "metadata": {},
   "outputs": [],
   "source": [
    "# Yay, clean data"
   ]
  },
  {
   "cell_type": "markdown",
   "id": "05a7746d-3324-4e34-8859-7cdd0adc7c03",
   "metadata": {},
   "source": [
    "### Question 1: What is the effect of fuel type on CO2 emissions (g/km)?"
   ]
  },
  {
   "cell_type": "code",
   "execution_count": null,
   "id": "9882c322-732b-4736-9b47-fdffe566bded",
   "metadata": {},
   "outputs": [],
   "source": [
    "#"
   ]
  },
  {
   "cell_type": "markdown",
   "id": "d3a357c3-e168-4841-8ed7-945ed01fc29d",
   "metadata": {},
   "source": [
    "### Question 2: What is the effect of vehicle power (PS) on CO2 emissions (g/km)?"
   ]
  },
  {
   "cell_type": "code",
   "execution_count": null,
   "id": "d7a6bf9e-85b1-4650-88f6-3c214659b65f",
   "metadata": {},
   "outputs": [],
   "source": [
    "#"
   ]
  },
  {
   "cell_type": "markdown",
   "id": "404ee84a-9703-4ed0-9624-e9dcb0c3e193",
   "metadata": {},
   "source": [
    "### Question 3: What is the effect of transmission type on CO2 emissions (g/km)?"
   ]
  },
  {
   "cell_type": "code",
   "execution_count": null,
   "id": "b7849f5c-ad7a-41a1-b71b-0221bea149e9",
   "metadata": {},
   "outputs": [],
   "source": [
    "#"
   ]
  },
  {
   "cell_type": "markdown",
   "id": "1596ae98-d14e-4ae2-81b7-d2c6eee04c4f",
   "metadata": {},
   "source": [
    "### Question 4: What is the effect of engine size (cm^3) on CO2 emissions (g/km)?"
   ]
  },
  {
   "cell_type": "code",
   "execution_count": null,
   "id": "46985587-4995-4be2-8037-8992a1336249",
   "metadata": {},
   "outputs": [],
   "source": [
    "# William"
   ]
  }
 ],
 "metadata": {
  "kernelspec": {
   "display_name": "Python 3 (ipykernel)",
   "language": "python",
   "name": "python3"
  },
  "language_info": {
   "codemirror_mode": {
    "name": "ipython",
    "version": 3
   },
   "file_extension": ".py",
   "mimetype": "text/x-python",
   "name": "python",
   "nbconvert_exporter": "python",
   "pygments_lexer": "ipython3",
   "version": "3.11.7"
  }
 },
 "nbformat": 4,
 "nbformat_minor": 5
}
