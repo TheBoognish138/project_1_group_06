{
 "cells": [
  {
   "cell_type": "code",
   "execution_count": 1,
   "metadata": {},
   "outputs": [],
   "source": [
    "# Dependencies\n",
    "import pandas as pd\n",
    "import numpy as np\n",
    "import matplotlib.pyplot as plt\n",
    "import seaborn as sns\n",
    "from scipy.stats import linregress\n",
    "from sklearn.linear_model import LinearRegression\n",
    "from sklearn.metrics import r2_score\n"
   ]
  },
  {
   "cell_type": "code",
   "execution_count": 2,
   "metadata": {},
   "outputs": [
    {
     "data": {
      "text/html": [
       "<div>\n",
       "<style scoped>\n",
       "    .dataframe tbody tr th:only-of-type {\n",
       "        vertical-align: middle;\n",
       "    }\n",
       "\n",
       "    .dataframe tbody tr th {\n",
       "        vertical-align: top;\n",
       "    }\n",
       "\n",
       "    .dataframe thead th {\n",
       "        text-align: right;\n",
       "    }\n",
       "</style>\n",
       "<table border=\"1\" class=\"dataframe\">\n",
       "  <thead>\n",
       "    <tr style=\"text-align: right;\">\n",
       "      <th></th>\n",
       "      <th>car_id</th>\n",
       "      <th>manufacturer</th>\n",
       "      <th>model</th>\n",
       "      <th>description</th>\n",
       "      <th>transmission</th>\n",
       "      <th>transmission_type</th>\n",
       "      <th>engine_size_cm3</th>\n",
       "      <th>fuel</th>\n",
       "      <th>powertrain</th>\n",
       "      <th>power_ps</th>\n",
       "      <th>co2_emissions_gPERkm</th>\n",
       "    </tr>\n",
       "  </thead>\n",
       "  <tbody>\n",
       "    <tr>\n",
       "      <th>0</th>\n",
       "      <td>1.0</td>\n",
       "      <td>ABARTH</td>\n",
       "      <td>595</td>\n",
       "      <td>1.4 TJET 145bhp</td>\n",
       "      <td>M5</td>\n",
       "      <td>Manual</td>\n",
       "      <td>1368.0</td>\n",
       "      <td>Petrol</td>\n",
       "      <td>Internal Combustion Engine (ICE)</td>\n",
       "      <td>145.0</td>\n",
       "      <td>161.0</td>\n",
       "    </tr>\n",
       "    <tr>\n",
       "      <th>1</th>\n",
       "      <td>2.0</td>\n",
       "      <td>ABARTH</td>\n",
       "      <td>595</td>\n",
       "      <td>1.4 TJET 145bhp</td>\n",
       "      <td>M5</td>\n",
       "      <td>Manual</td>\n",
       "      <td>1368.0</td>\n",
       "      <td>Petrol</td>\n",
       "      <td>Internal Combustion Engine (ICE)</td>\n",
       "      <td>145.0</td>\n",
       "      <td>153.0</td>\n",
       "    </tr>\n",
       "    <tr>\n",
       "      <th>2</th>\n",
       "      <td>3.0</td>\n",
       "      <td>ABARTH</td>\n",
       "      <td>595</td>\n",
       "      <td>595 1.4 145 BHP</td>\n",
       "      <td>M5</td>\n",
       "      <td>Manual</td>\n",
       "      <td>1368.0</td>\n",
       "      <td>Petrol</td>\n",
       "      <td>Internal Combustion Engine (ICE)</td>\n",
       "      <td>145.0</td>\n",
       "      <td>169.0</td>\n",
       "    </tr>\n",
       "    <tr>\n",
       "      <th>3</th>\n",
       "      <td>4.0</td>\n",
       "      <td>ABARTH</td>\n",
       "      <td>595</td>\n",
       "      <td>595 1.4 145 BHP</td>\n",
       "      <td>M5</td>\n",
       "      <td>Manual</td>\n",
       "      <td>1368.0</td>\n",
       "      <td>Petrol</td>\n",
       "      <td>Internal Combustion Engine (ICE)</td>\n",
       "      <td>145.0</td>\n",
       "      <td>162.0</td>\n",
       "    </tr>\n",
       "    <tr>\n",
       "      <th>4</th>\n",
       "      <td>5.0</td>\n",
       "      <td>ABARTH</td>\n",
       "      <td>595</td>\n",
       "      <td>595 1.4 145 BHP Convertible</td>\n",
       "      <td>M5</td>\n",
       "      <td>Manual</td>\n",
       "      <td>1368.0</td>\n",
       "      <td>Petrol</td>\n",
       "      <td>Internal Combustion Engine (ICE)</td>\n",
       "      <td>145.0</td>\n",
       "      <td>169.0</td>\n",
       "    </tr>\n",
       "  </tbody>\n",
       "</table>\n",
       "</div>"
      ],
      "text/plain": [
       "   car_id manufacturer model                  description transmission  \\\n",
       "0     1.0       ABARTH   595              1.4 TJET 145bhp           M5   \n",
       "1     2.0       ABARTH   595              1.4 TJET 145bhp           M5   \n",
       "2     3.0       ABARTH   595             595 1.4 145 BHP            M5   \n",
       "3     4.0       ABARTH   595              595 1.4 145 BHP           M5   \n",
       "4     5.0       ABARTH   595  595 1.4 145 BHP Convertible           M5   \n",
       "\n",
       "  transmission_type  engine_size_cm3    fuel  \\\n",
       "0            Manual           1368.0  Petrol   \n",
       "1            Manual           1368.0  Petrol   \n",
       "2            Manual           1368.0  Petrol   \n",
       "3            Manual           1368.0  Petrol   \n",
       "4            Manual           1368.0  Petrol   \n",
       "\n",
       "                         powertrain  power_ps  co2_emissions_gPERkm  \n",
       "0  Internal Combustion Engine (ICE)     145.0                 161.0  \n",
       "1  Internal Combustion Engine (ICE)     145.0                 153.0  \n",
       "2  Internal Combustion Engine (ICE)     145.0                 169.0  \n",
       "3  Internal Combustion Engine (ICE)     145.0                 162.0  \n",
       "4  Internal Combustion Engine (ICE)     145.0                 169.0  "
      ]
     },
     "execution_count": 2,
     "metadata": {},
     "output_type": "execute_result"
    }
   ],
   "source": [
    "# read raw csv\n",
    "# encoding = \"ISO-8859-1\" Ty TA Reed\n",
    "file = \"Resources/uk_gov_data_sparse_preproc.csv\"\n",
    "df_raw = pd.read_csv(file, encoding=\"ISO-8859-1\")\n",
    "df_raw.head()"
   ]
  },
  {
   "cell_type": "code",
   "execution_count": 3,
   "metadata": {},
   "outputs": [
    {
     "name": "stdout",
     "output_type": "stream",
     "text": [
      "<class 'pandas.core.frame.DataFrame'>\n",
      "RangeIndex: 6756 entries, 0 to 6755\n",
      "Data columns (total 11 columns):\n",
      " #   Column                Non-Null Count  Dtype  \n",
      "---  ------                --------------  -----  \n",
      " 0   car_id                6756 non-null   float64\n",
      " 1   manufacturer          6756 non-null   object \n",
      " 2   model                 6756 non-null   object \n",
      " 3   description           6756 non-null   object \n",
      " 4   transmission          6609 non-null   object \n",
      " 5   transmission_type     6756 non-null   object \n",
      " 6   engine_size_cm3       6755 non-null   float64\n",
      " 7   fuel                  6756 non-null   object \n",
      " 8   powertrain            6756 non-null   object \n",
      " 9   power_ps              6712 non-null   float64\n",
      " 10  co2_emissions_gPERkm  6756 non-null   float64\n",
      "dtypes: float64(4), object(7)\n",
      "memory usage: 580.7+ KB\n"
     ]
    }
   ],
   "source": [
    "# Many null values, we need to investigate\n",
    "df_raw.info()"
   ]
  },
  {
   "cell_type": "code",
   "execution_count": 4,
   "metadata": {},
   "outputs": [
    {
     "name": "stdout",
     "output_type": "stream",
     "text": [
      "<class 'pandas.core.frame.DataFrame'>\n",
      "Index: 6654 entries, 0 to 6755\n",
      "Data columns (total 11 columns):\n",
      " #   Column                Non-Null Count  Dtype  \n",
      "---  ------                --------------  -----  \n",
      " 0   car_id                6654 non-null   float64\n",
      " 1   manufacturer          6654 non-null   object \n",
      " 2   model                 6654 non-null   object \n",
      " 3   description           6654 non-null   object \n",
      " 4   transmission          6608 non-null   object \n",
      " 5   transmission_type     6654 non-null   object \n",
      " 6   engine_size_cm3       6654 non-null   float64\n",
      " 7   fuel                  6654 non-null   object \n",
      " 8   powertrain            6654 non-null   object \n",
      " 9   power_ps              6618 non-null   float64\n",
      " 10  co2_emissions_gPERkm  6654 non-null   float64\n",
      "dtypes: float64(4), object(7)\n",
      "memory usage: 623.8+ KB\n"
     ]
    }
   ],
   "source": [
    "# Locate, Identify, and drop car ID's with an electric transmission (they dont emit co2)\n",
    "e_transmission_i = df_raw[(df_raw.transmission_type == \"Electric - Not Applicable\")].index\n",
    "df_emissions_raw = df_raw.drop(e_transmission_i)\n",
    "df_emissions_raw.info()"
   ]
  },
  {
   "cell_type": "code",
   "execution_count": 5,
   "metadata": {},
   "outputs": [
    {
     "name": "stdout",
     "output_type": "stream",
     "text": [
      "<class 'pandas.core.frame.DataFrame'>\n",
      "Index: 6642 entries, 0 to 6755\n",
      "Data columns (total 11 columns):\n",
      " #   Column                Non-Null Count  Dtype  \n",
      "---  ------                --------------  -----  \n",
      " 0   car_id                6642 non-null   float64\n",
      " 1   manufacturer          6642 non-null   object \n",
      " 2   model                 6642 non-null   object \n",
      " 3   description           6642 non-null   object \n",
      " 4   transmission          6597 non-null   object \n",
      " 5   transmission_type     6642 non-null   object \n",
      " 6   engine_size_cm3       6642 non-null   float64\n",
      " 7   fuel                  6642 non-null   object \n",
      " 8   powertrain            6642 non-null   object \n",
      " 9   power_ps              6606 non-null   float64\n",
      " 10  co2_emissions_gPERkm  6642 non-null   float64\n",
      "dtypes: float64(4), object(7)\n",
      "memory usage: 622.7+ KB\n"
     ]
    }
   ],
   "source": [
    "null_ps = df_emissions_raw[(df_emissions_raw.power_ps == 0)].index\n",
    "df_emissions = df_emissions_raw.drop(null_ps)\n",
    "df_emissions.info()"
   ]
  },
  {
   "cell_type": "code",
   "execution_count": 6,
   "metadata": {},
   "outputs": [
    {
     "name": "stdout",
     "output_type": "stream",
     "text": [
      "<class 'pandas.core.frame.DataFrame'>\n",
      "Index: 6606 entries, 0 to 6755\n",
      "Data columns (total 11 columns):\n",
      " #   Column                Non-Null Count  Dtype  \n",
      "---  ------                --------------  -----  \n",
      " 0   car_id                6606 non-null   float64\n",
      " 1   manufacturer          6606 non-null   object \n",
      " 2   model                 6606 non-null   object \n",
      " 3   description           6606 non-null   object \n",
      " 4   transmission          6563 non-null   object \n",
      " 5   transmission_type     6606 non-null   object \n",
      " 6   engine_size_cm3       6606 non-null   float64\n",
      " 7   fuel                  6606 non-null   object \n",
      " 8   powertrain            6606 non-null   object \n",
      " 9   power_ps              6606 non-null   float64\n",
      " 10  co2_emissions_gPERkm  6606 non-null   float64\n",
      "dtypes: float64(4), object(7)\n",
      "memory usage: 619.3+ KB\n"
     ]
    }
   ],
   "source": [
    "df_emissions1 = df_emissions.dropna(subset=[\"power_ps\"])\n",
    "df_emissions1.info()"
   ]
  },
  {
   "cell_type": "code",
   "execution_count": 7,
   "metadata": {},
   "outputs": [
    {
     "name": "stdout",
     "output_type": "stream",
     "text": [
      "<class 'pandas.core.frame.DataFrame'>\n",
      "Index: 6542 entries, 0 to 6755\n",
      "Data columns (total 11 columns):\n",
      " #   Column                Non-Null Count  Dtype  \n",
      "---  ------                --------------  -----  \n",
      " 0   car_id                6542 non-null   float64\n",
      " 1   manufacturer          6542 non-null   object \n",
      " 2   model                 6542 non-null   object \n",
      " 3   description           6542 non-null   object \n",
      " 4   transmission          6542 non-null   object \n",
      " 5   transmission_type     6542 non-null   object \n",
      " 6   engine_size_cm3       6542 non-null   float64\n",
      " 7   fuel                  6542 non-null   object \n",
      " 8   powertrain            6542 non-null   object \n",
      " 9   power_ps              6542 non-null   float64\n",
      " 10  co2_emissions_gPERkm  6542 non-null   float64\n",
      "dtypes: float64(4), object(7)\n",
      "memory usage: 613.3+ KB\n"
     ]
    }
   ],
   "source": [
    "null_emissions = df_emissions1[(df_emissions1.co2_emissions_gPERkm == 0)].index\n",
    "df_emissions_clean = df_emissions1.drop(null_emissions)\n",
    "df_emissions_clean.info()"
   ]
  },
  {
   "cell_type": "markdown",
   "metadata": {},
   "source": [
    "### Question 1: What is the effect of fuel type on CO2 emissions (g/km)?"
   ]
  },
  {
   "cell_type": "markdown",
   "metadata": {},
   "source": [
    "### Violin Chart"
   ]
  },
  {
   "cell_type": "code",
   "execution_count": 8,
   "metadata": {},
   "outputs": [
    {
     "data": {
      "text/plain": [
       "<Figure size 800x600 with 0 Axes>"
      ]
     },
     "metadata": {},
     "output_type": "display_data"
    },
    {
     "data": {
      "image/png": "[encoded data removed]",
      "text/plain": [
       "<Figure size 1100x600 with 1 Axes>"
      ]
     },
     "metadata": {},
     "output_type": "display_data"
    }
   ],
   "source": [
    "# Step 1: Get the data\n",
    "data = df_emissions_clean.fuel.value_counts()\n",
    "colors = [\"#a31621\", \"#e9c46a\", \"#5579c6\", \"#1f7a8c\", \"#db222a\", \"#708238\", \"#a8e4a0\"]\n",
    "\n",
    "# Step 2: Make the canvas\n",
    "plt.figure(figsize=(8, 6))\n",
    "\n",
    "# get the data\n",
    "data = df_emissions_clean\n",
    "\n",
    "# create the plot\n",
    "plt.figure(figsize=(11, 6))\n",
    "                   \n",
    "sns.violinplot(data, x=\"fuel\", y=\"co2_emissions_gPERkm\", width=1.5, palette=colors)\n",
    "\n",
    "# customizations\n",
    "plt.xlabel(\"Fuel Type\", fontstyle=\"italic\", fontsize=14)\n",
    "plt.ylabel(\"CO2 Emissions (g/km)\", fontstyle=\"italic\", fontsize=14)\n",
    "plt.title(\"Vehicle CO2 Emissions by Fuel Type\", fontsize=18, fontweight=\"bold\")\n",
    "plt.ylim(0, 400)\n",
    "\n",
    "plt.grid(color=\"lightgrey\", axis=\"y\", linestyle=\"--\", alpha=0.25)\n",
    "\n",
    "# save as image file\n",
    "plt.savefig(\"../question1violin.png\")\n",
    "\n",
    "# show\n",
    "plt.show()\n",
    "\n"
   ]
  },
  {
   "cell_type": "markdown",
   "metadata": {},
   "source": [
    "### Bar Chart"
   ]
  },
  {
   "cell_type": "code",
   "execution_count": 23,
   "metadata": {},
   "outputs": [
    {
     "name": "stdout",
     "output_type": "stream",
     "text": [
      "               fuel   manufacturer  co2_emissions_gPERkm\n",
      "0            Diesel     ALFA ROMEO            158.527778\n",
      "1            Diesel       CADILLAC            173.500000\n",
      "2            Diesel  CHRYSLER JEEP            167.880000\n",
      "3            Diesel        CITROEN            150.826923\n",
      "4            Diesel          DACIA            133.244186\n",
      "..              ...            ...                   ...\n",
      "94  Petrol Electric           SEAT             74.318182\n",
      "95  Petrol Electric         SUBARU            184.000000\n",
      "96  Petrol Electric         SUZUKI            120.551724\n",
      "97  Petrol Electric         TOYOTA            117.489627\n",
      "98  Petrol Electric          VOLVO            177.994709\n",
      "\n",
      "[99 rows x 3 columns]\n"
     ]
    }
   ],
   "source": [
    "# get the data\n",
    "data = df_emissions_clean\n",
    "\n",
    "# make a new dataframe\n",
    "avg_by_fuel_type_df = pd.DataFrame(df_emissions_clean.groupby([\"fuel\",\"manufacturer\"],as_index=False).agg({'co2_emissions_gPERkm':'mean'}))\n",
    "print(avg_by_fuel_type_df)\n",
    "\n"
   ]
  },
  {
   "cell_type": "code",
   "execution_count": 21,
   "metadata": {},
   "outputs": [
    {
     "data": {
      "image/png": "[encoded data removed]",
      "text/plain": [
       "<Figure size 1300x500 with 1 Axes>"
      ]
     },
     "metadata": {},
     "output_type": "display_data"
    }
   ],
   "source": [
    "# size the plot\n",
    "plt.figure(figsize=(13,5))\n",
    "\n",
    "plt.bar(avg_by_fuel_type_df[\"fuel\"], avg_by_fuel_type_df[\"co2_emissions_gPERkm\"],\n",
    "                         color='#A675A1', alpha=0.6, align=\"center\")\n",
    "\n",
    "plt.title(\"Average CO2 Emissions by Fuel Type\")\n",
    "plt.xlabel(\"Fuel Type\")\n",
    "plt.ylabel(\"grams per kilometer\")\n",
    "\n",
    "# save as image file\n",
    "plt.savefig(\"../question1bar.png\")\n",
    "\n",
    "plt.show()"
   ]
  },
  {
   "cell_type": "markdown",
   "metadata": {},
   "source": [
    "### Treemap"
   ]
  },
  {
   "cell_type": "code",
   "execution_count": 11,
   "metadata": {},
   "outputs": [],
   "source": [
    "import plotly.express as px"
   ]
  },
  {
   "cell_type": "code",
   "execution_count": 37,
   "metadata": {},
   "outputs": [
    {
     "data": {
      "application/vnd.plotly.v1+json": {
       "config": {
        "plotlyServerURL": "https://plot.ly"
       },
       "data": [
        {
         "branchvalues": "total",
         "customdata": [
          [
           165.33333333333334
          ],
          [
           158.52777777777777
          ],
          [
           199.46938775510205
          ],
          [
           157.4375
          ],
          [
           281.27272727272725
          ],
          [
           82
          ],
          [
           302.4117647058824
          ],
          [
           173.5
          ],
          [
           213
          ],
          [
           277
          ],
          [
           167.88
          ],
          [
           50
          ],
          [
           191.71428571428572
          ],
          [
           150.82692307692307
          ],
          [
           35
          ],
          [
           141.275
          ],
          [
           133.24418604651163
          ],
          [
           146.2016806722689
          ],
          [
           137.31034482758622
          ],
          [
           131.16666666666666
          ],
          [
           33.166666666666664
          ],
          [
           149.22222222222223
          ],
          [
           157
          ],
          [
           317.6666666666667
          ],
          [
           137.5
          ],
          [
           149.9857142857143
          ],
          [
           125.04347826086956
          ],
          [
           166.48101265822785
          ],
          [
           188.5625
          ],
          [
           52.5
          ],
          [
           174.0909090909091
          ],
          [
           130.26
          ],
          [
           190.13333333333333
          ],
          [
           213.71428571428572
          ],
          [
           143.78974358974358
          ],
          [
           157.72307692307692
          ],
          [
           123.625
          ],
          [
           34
          ],
          [
           144.5
          ],
          [
           130.34
          ],
          [
           175.82692307692307
          ],
          [
           229.5
          ],
          [
           138.3048780487805
          ],
          [
           152.12280701754386
          ],
          [
           34.85
          ],
          [
           142
          ],
          [
           136.6888888888889
          ],
          [
           221.41059602649003
          ],
          [
           66.16666666666667
          ],
          [
           257.73015873015873
          ],
          [
           35
          ],
          [
           24
          ],
          [
           267.1818181818182
          ],
          [
           157.8548387096774
          ],
          [
           215.55555555555554
          ],
          [
           219
          ],
          [
           289.22727272727275
          ],
          [
           164.13953488372093
          ],
          [
           145.89102564102564
          ],
          [
           169.9517766497462
          ],
          [
           158.96153846153845
          ],
          [
           37.166666666666664
          ],
          [
           33.5
          ],
          [
           200.61666666666667
          ],
          [
           197.76623376623377
          ],
          [
           43
          ],
          [
           157.3846153846154
          ],
          [
           169.5
          ],
          [
           168
          ],
          [
           276.3636363636364
          ],
          [
           164
          ],
          [
           142.8372093023256
          ],
          [
           145.92424242424244
          ],
          [
           35.9
          ],
          [
           141.01666666666668
          ],
          [
           147.61475409836066
          ],
          [
           30.464285714285715
          ],
          [
           141.29482071713147
          ],
          [
           105.75806451612904
          ],
          [
           361.9
          ],
          [
           142.09756097560975
          ],
          [
           30
          ],
          [
           148.68032786885246
          ],
          [
           74.31818181818181
          ],
          [
           183.94736842105263
          ],
          [
           170.6153846153846
          ],
          [
           191
          ],
          [
           184
          ],
          [
           22
          ],
          [
           120.55172413793103
          ],
          [
           212.54716981132074
          ],
          [
           24.625
          ],
          [
           132.32
          ],
          [
           117.4896265560166
          ],
          [
           172.75
          ],
          [
           176.75555555555556
          ],
          [
           48.388888888888886
          ],
          [
           168.85526315789474
          ],
          [
           177.994708994709
          ],
          [
           170.6614085367207
          ],
          [
           163.1089165286095
          ],
          [
           37.166666666666664
          ],
          [
           66.70021919867409
          ],
          [
           215.24258709567908
          ],
          [
           137.31034482758622
          ],
          [
           145.33787613525735
          ]
         ],
         "domain": {
          "x": [
           0,
           1
          ],
          "y": [
           0,
           1
          ]
         },
         "hovertemplate": "labels=%{label}<br>co2_emissions_gPERkm_sum=%{value}<br>parent=%{parent}<br>id=%{id}<br>co2_emissions_gPERkm=%{color}<extra></extra>",
         "ids": [
          "Petrol/ABARTH",
          "Diesel/ALFA ROMEO",
          "Petrol/ALFA ROMEO",
          "Petrol/ALPINE",
          "Petrol/ASTON MARTIN LAGONDA",
          "Electricity / Petrol/BENTLEY MOTORS",
          "Petrol/BENTLEY MOTORS",
          "Diesel/CADILLAC",
          "Petrol/CADILLAC",
          "Petrol/CHEVROLET",
          "Diesel/CHRYSLER JEEP",
          "Electricity / Petrol/CHRYSLER JEEP",
          "Petrol/CHRYSLER JEEP",
          "Diesel/CITROEN",
          "Electricity / Petrol/CITROEN",
          "Petrol/CITROEN",
          "Diesel/DACIA",
          "Petrol/DACIA",
          "Petrol / LPG/DACIA",
          "Diesel/DS",
          "Electricity / Petrol/DS",
          "Petrol/DS",
          "Electricity / Petrol/FERRARI",
          "Petrol/FERRARI",
          "Diesel/FIAT",
          "Petrol/FIAT",
          "Petrol Electric/FIAT",
          "Diesel/FORD",
          "Diesel Electric/FORD",
          "Electricity / Petrol/FORD",
          "Petrol/FORD",
          "Petrol Electric/FORD",
          "Diesel/GENESIS",
          "Petrol/GENESIS",
          "Petrol/HONDA",
          "Petrol Electric/HONDA",
          "Diesel Electric/HYUNDAI",
          "Electricity / Petrol/HYUNDAI",
          "Petrol/HYUNDAI",
          "Petrol Electric/HYUNDAI",
          "Diesel/JAGUAR",
          "Petrol/JAGUAR",
          "Diesel/KIA",
          "Diesel Electric/KIA",
          "Electricity / Petrol/KIA",
          "Petrol/KIA",
          "Petrol Electric/KIA",
          "Diesel/LAND ROVER",
          "Electricity / Petrol/LAND ROVER",
          "Petrol/LAND ROVER",
          "Petrol Electric/LAND ROVER",
          "Electricity / Petrol/LEXUS",
          "Petrol/LEXUS",
          "Petrol Electric/LEXUS",
          "Petrol/LOTUS",
          "Diesel/MASERATI",
          "Petrol/MASERATI",
          "Diesel/MAZDA",
          "Petrol/MAZDA",
          "Diesel/MERCEDES-BENZ",
          "Diesel Electric/MERCEDES-BENZ",
          "Electricity / Diesel/MERCEDES-BENZ",
          "Electricity / Petrol/MERCEDES-BENZ",
          "Petrol/MERCEDES-BENZ",
          "Petrol Electric/MERCEDES-BENZ",
          "Electricity / Petrol/MG MOTORS UK",
          "Petrol/MG MOTORS UK",
          "Petrol/MITSUBISHI",
          "Petrol/MORGAN MOTOR COMPANY",
          "Petrol/McLaren",
          "Diesel/NISSAN",
          "Petrol/NISSAN",
          "Diesel/PEUGEOT",
          "Electricity / Petrol/PEUGEOT",
          "Petrol/PEUGEOT",
          "Diesel/RENAULT",
          "Electricity / Petrol/RENAULT",
          "Petrol/RENAULT",
          "Petrol Electric/RENAULT",
          "Petrol/Rolls Royce",
          "Diesel/SEAT",
          "Electricity / Petrol/SEAT",
          "Petrol/SEAT",
          "Petrol Electric/SEAT",
          "Diesel/SSANGYONG",
          "Petrol/SSANGYONG",
          "Petrol/SUBARU",
          "Petrol Electric/SUBARU",
          "Electricity / Petrol/SUZUKI",
          "Petrol Electric/SUZUKI",
          "Diesel/TOYOTA",
          "Electricity / Petrol/TOYOTA",
          "Petrol/TOYOTA",
          "Petrol Electric/TOYOTA",
          "Diesel/VOLVO",
          "Diesel Electric/VOLVO",
          "Electricity / Petrol/VOLVO",
          "Petrol/VOLVO",
          "Petrol Electric/VOLVO",
          "Diesel",
          "Diesel Electric",
          "Electricity / Diesel",
          "Electricity / Petrol",
          "Petrol",
          "Petrol / LPG",
          "Petrol Electric"
         ],
         "labels": [
          "ABARTH",
          "ALFA ROMEO",
          "ALFA ROMEO",
          "ALPINE",
          "ASTON MARTIN LAGONDA",
          "BENTLEY MOTORS",
          "BENTLEY MOTORS",
          "CADILLAC",
          "CADILLAC",
          "CHEVROLET",
          "CHRYSLER JEEP",
          "CHRYSLER JEEP",
          "CHRYSLER JEEP",
          "CITROEN",
          "CITROEN",
          "CITROEN",
          "DACIA",
          "DACIA",
          "DACIA",
          "DS",
          "DS",
          "DS",
          "FERRARI",
          "FERRARI",
          "FIAT",
          "FIAT",
          "FIAT",
          "FORD",
          "FORD",
          "FORD",
          "FORD",
          "FORD",
          "GENESIS",
          "GENESIS",
          "HONDA",
          "HONDA",
          "HYUNDAI",
          "HYUNDAI",
          "HYUNDAI",
          "HYUNDAI",
          "JAGUAR",
          "JAGUAR",
          "KIA",
          "KIA",
          "KIA",
          "KIA",
          "KIA",
          "LAND ROVER",
          "LAND ROVER",
          "LAND ROVER",
          "LAND ROVER",
          "LEXUS",
          "LEXUS",
          "LEXUS",
          "LOTUS",
          "MASERATI",
          "MASERATI",
          "MAZDA",
          "MAZDA",
          "MERCEDES-BENZ",
          "MERCEDES-BENZ",
          "MERCEDES-BENZ",
          "MERCEDES-BENZ",
          "MERCEDES-BENZ",
          "MERCEDES-BENZ",
          "MG MOTORS UK",
          "MG MOTORS UK",
          "MITSUBISHI",
          "MORGAN MOTOR COMPANY",
          "McLaren",
          "NISSAN",
          "NISSAN",
          "PEUGEOT",
          "PEUGEOT",
          "PEUGEOT",
          "RENAULT",
          "RENAULT",
          "RENAULT",
          "RENAULT",
          "Rolls Royce",
          "SEAT",
          "SEAT",
          "SEAT",
          "SEAT",
          "SSANGYONG",
          "SSANGYONG",
          "SUBARU",
          "SUBARU",
          "SUZUKI",
          "SUZUKI",
          "TOYOTA",
          "TOYOTA",
          "TOYOTA",
          "TOYOTA",
          "VOLVO",
          "VOLVO",
          "VOLVO",
          "VOLVO",
          "VOLVO",
          "Diesel",
          "Diesel Electric",
          "Electricity / Diesel",
          "Electricity / Petrol",
          "Petrol",
          "Petrol / LPG",
          "Petrol Electric"
         ],
         "marker": {
          "coloraxis": "coloraxis",
          "colors": [
           165.33333333333334,
           158.52777777777777,
           199.46938775510205,
           157.4375,
           281.27272727272725,
           82,
           302.4117647058824,
           173.5,
           213,
           277,
           167.88,
           50,
           191.71428571428572,
           150.82692307692307,
           35,
           141.275,
           133.24418604651163,
           146.2016806722689,
           137.31034482758622,
           131.16666666666666,
           33.166666666666664,
           149.22222222222223,
           157,
           317.6666666666667,
           137.5,
           149.9857142857143,
           125.04347826086956,
           166.48101265822785,
           188.5625,
           52.5,
           174.0909090909091,
           130.26,
           190.13333333333333,
           213.71428571428572,
           143.78974358974358,
           157.72307692307692,
           123.625,
           34,
           144.5,
           130.34,
           175.82692307692307,
           229.5,
           138.3048780487805,
           152.12280701754386,
           34.85,
           142,
           136.6888888888889,
           221.41059602649003,
           66.16666666666667,
           257.73015873015873,
           35,
           24,
           267.1818181818182,
           157.8548387096774,
           215.55555555555554,
           219,
           289.22727272727275,
           164.13953488372093,
           145.89102564102564,
           169.9517766497462,
           158.96153846153845,
           37.166666666666664,
           33.5,
           200.61666666666667,
           197.76623376623377,
           43,
           157.3846153846154,
           169.5,
           168,
           276.3636363636364,
           164,
           142.8372093023256,
           145.92424242424244,
           35.9,
           141.01666666666668,
           147.61475409836066,
           30.464285714285715,
           141.29482071713147,
           105.75806451612904,
           361.9,
           142.09756097560975,
           30,
           148.68032786885246,
           74.31818181818181,
           183.94736842105263,
           170.6153846153846,
           191,
           184,
           22,
           120.55172413793103,
           212.54716981132074,
           24.625,
           132.32,
           117.4896265560166,
           172.75,
           176.75555555555556,
           48.388888888888886,
           168.85526315789474,
           177.994708994709,
           170.6614085367207,
           163.1089165286095,
           37.166666666666664,
           66.70021919867409,
           215.24258709567908,
           137.31034482758622,
           145.33787613525735
          ]
         },
         "name": "",
         "parents": [
          "Petrol",
          "Diesel",
          "Petrol",
          "Petrol",
          "Petrol",
          "Electricity / Petrol",
          "Petrol",
          "Diesel",
          "Petrol",
          "Petrol",
          "Diesel",
          "Electricity / Petrol",
          "Petrol",
          "Diesel",
          "Electricity / Petrol",
          "Petrol",
          "Diesel",
          "Petrol",
          "Petrol / LPG",
          "Diesel",
          "Electricity / Petrol",
          "Petrol",
          "Electricity / Petrol",
          "Petrol",
          "Diesel",
          "Petrol",
          "Petrol Electric",
          "Diesel",
          "Diesel Electric",
          "Electricity / Petrol",
          "Petrol",
          "Petrol Electric",
          "Diesel",
          "Petrol",
          "Petrol",
          "Petrol Electric",
          "Diesel Electric",
          "Electricity / Petrol",
          "Petrol",
          "Petrol Electric",
          "Diesel",
          "Petrol",
          "Diesel",
          "Diesel Electric",
          "Electricity / Petrol",
          "Petrol",
          "Petrol Electric",
          "Diesel",
          "Electricity / Petrol",
          "Petrol",
          "Petrol Electric",
          "Electricity / Petrol",
          "Petrol",
          "Petrol Electric",
          "Petrol",
          "Diesel",
          "Petrol",
          "Diesel",
          "Petrol",
          "Diesel",
          "Diesel Electric",
          "Electricity / Diesel",
          "Electricity / Petrol",
          "Petrol",
          "Petrol Electric",
          "Electricity / Petrol",
          "Petrol",
          "Petrol",
          "Petrol",
          "Petrol",
          "Diesel",
          "Petrol",
          "Diesel",
          "Electricity / Petrol",
          "Petrol",
          "Diesel",
          "Electricity / Petrol",
          "Petrol",
          "Petrol Electric",
          "Petrol",
          "Diesel",
          "Electricity / Petrol",
          "Petrol",
          "Petrol Electric",
          "Diesel",
          "Petrol",
          "Petrol",
          "Petrol Electric",
          "Electricity / Petrol",
          "Petrol Electric",
          "Diesel",
          "Electricity / Petrol",
          "Petrol",
          "Petrol Electric",
          "Diesel",
          "Diesel Electric",
          "Electricity / Petrol",
          "Petrol",
          "Petrol Electric",
          "",
          "",
          "",
          "",
          "",
          "",
          ""
         ],
         "type": "treemap",
         "values": [
          165.33333333333334,
          158.52777777777777,
          199.46938775510205,
          157.4375,
          281.27272727272725,
          82,
          302.4117647058824,
          173.5,
          213,
          277,
          167.88,
          50,
          191.71428571428572,
          150.82692307692307,
          35,
          141.275,
          133.24418604651163,
          146.2016806722689,
          137.31034482758622,
          131.16666666666666,
          33.166666666666664,
          149.22222222222223,
          157,
          317.6666666666667,
          137.5,
          149.9857142857143,
          125.04347826086956,
          166.48101265822785,
          188.5625,
          52.5,
          174.0909090909091,
          130.26,
          190.13333333333333,
          213.71428571428572,
          143.78974358974358,
          157.72307692307692,
          123.625,
          34,
          144.5,
          130.34,
          175.82692307692307,
          229.5,
          138.3048780487805,
          152.12280701754386,
          34.85,
          142,
          136.6888888888889,
          221.41059602649005,
          66.16666666666667,
          257.73015873015873,
          35,
          24,
          267.1818181818182,
          157.8548387096774,
          215.55555555555554,
          219,
          289.22727272727275,
          164.13953488372093,
          145.89102564102564,
          169.9517766497462,
          158.96153846153845,
          37.166666666666664,
          33.5,
          200.61666666666667,
          197.76623376623377,
          43,
          157.3846153846154,
          169.5,
          168,
          276.3636363636364,
          164,
          142.8372093023256,
          145.92424242424244,
          35.9,
          141.01666666666668,
          147.61475409836066,
          30.464285714285715,
          141.29482071713147,
          105.75806451612904,
          361.9,
          142.09756097560975,
          30,
          148.68032786885246,
          74.31818181818181,
          183.94736842105263,
          170.6153846153846,
          191,
          184,
          22,
          120.55172413793103,
          212.54716981132074,
          24.625,
          132.32,
          117.4896265560166,
          172.75,
          176.75555555555556,
          48.388888888888886,
          168.85526315789474,
          177.994708994709,
          3666.7747039756873,
          800.0274010346379,
          37.166666666666664,
          836.561507936508,
          7485.555642602146,
          137.31034482758622,
          1850.788822571714
         ]
        }
       ],
       "layout": {
        "autosize": false,
        "coloraxis": {
         "colorbar": {
          "title": {
           "text": "co2_emissions_gPERkm"
          }
         },
         "colorscale": [
          [
           0,
           "#0d0887"
          ],
          [
           0.1111111111111111,
           "#46039f"
          ],
          [
           0.2222222222222222,
           "#7201a8"
          ],
          [
           0.3333333333333333,
           "#9c179e"
          ],
          [
           0.4444444444444444,
           "#bd3786"
          ],
          [
           0.5555555555555556,
           "#d8576b"
          ],
          [
           0.6666666666666666,
           "#ed7953"
          ],
          [
           0.7777777777777778,
           "#fb9f3a"
          ],
          [
           0.8888888888888888,
           "#fdca26"
          ],
          [
           1,
           "#f0f921"
          ]
         ]
        },
        "height": 800,
        "legend": {
         "tracegroupgap": 0
        },
        "margin": {
         "b": 10,
         "l": 10,
         "r": 10,
         "t": 50
        },
        "template": {
         "data": {
          "bar": [
           {
            "error_x": {
             "color": "#2a3f5f"
            },
            "error_y": {
             "color": "#2a3f5f"
            },
            "marker": {
             "line": {
              "color": "#E5ECF6",
              "width": 0.5
             },
             "pattern": {
              "fillmode": "overlay",
              "size": 10,
              "solidity": 0.2
             }
            },
            "type": "bar"
           }
          ],
          "barpolar": [
           {
            "marker": {
             "line": {
              "color": "#E5ECF6",
              "width": 0.5
             },
             "pattern": {
              "fillmode": "overlay",
              "size": 10,
              "solidity": 0.2
             }
            },
            "type": "barpolar"
           }
          ],
          "carpet": [
           {
            "aaxis": {
             "endlinecolor": "#2a3f5f",
             "gridcolor": "white",
             "linecolor": "white",
             "minorgridcolor": "white",
             "startlinecolor": "#2a3f5f"
            },
            "baxis": {
             "endlinecolor": "#2a3f5f",
             "gridcolor": "white",
             "linecolor": "white",
             "minorgridcolor": "white",
             "startlinecolor": "#2a3f5f"
            },
            "type": "carpet"
           }
          ],
          "choropleth": [
           {
            "colorbar": {
             "outlinewidth": 0,
             "ticks": ""
            },
            "type": "choropleth"
           }
          ],
          "contour": [
           {
            "colorbar": {
             "outlinewidth": 0,
             "ticks": ""
            },
            "colorscale": [
             [
              0,
              "#0d0887"
             ],
             [
              0.1111111111111111,
              "#46039f"
             ],
             [
              0.2222222222222222,
              "#7201a8"
             ],
             [
              0.3333333333333333,
              "#9c179e"
             ],
             [
              0.4444444444444444,
              "#bd3786"
             ],
             [
              0.5555555555555556,
              "#d8576b"
             ],
             [
              0.6666666666666666,
              "#ed7953"
             ],
             [
              0.7777777777777778,
              "#fb9f3a"
             ],
             [
              0.8888888888888888,
              "#fdca26"
             ],
             [
              1,
              "#f0f921"
             ]
            ],
            "type": "contour"
           }
          ],
          "contourcarpet": [
           {
            "colorbar": {
             "outlinewidth": 0,
             "ticks": ""
            },
            "type": "contourcarpet"
           }
          ],
          "heatmap": [
           {
            "colorbar": {
             "outlinewidth": 0,
             "ticks": ""
            },
            "colorscale": [
             [
              0,
              "#0d0887"
             ],
             [
              0.1111111111111111,
              "#46039f"
             ],
             [
              0.2222222222222222,
              "#7201a8"
             ],
             [
              0.3333333333333333,
              "#9c179e"
             ],
             [
              0.4444444444444444,
              "#bd3786"
             ],
             [
              0.5555555555555556,
              "#d8576b"
             ],
             [
              0.6666666666666666,
              "#ed7953"
             ],
             [
              0.7777777777777778,
              "#fb9f3a"
             ],
             [
              0.8888888888888888,
              "#fdca26"
             ],
             [
              1,
              "#f0f921"
             ]
            ],
            "type": "heatmap"
           }
          ],
          "heatmapgl": [
           {
            "colorbar": {
             "outlinewidth": 0,
             "ticks": ""
            },
            "colorscale": [
             [
              0,
              "#0d0887"
             ],
             [
              0.1111111111111111,
              "#46039f"
             ],
             [
              0.2222222222222222,
              "#7201a8"
             ],
             [
              0.3333333333333333,
              "#9c179e"
             ],
             [
              0.4444444444444444,
              "#bd3786"
             ],
             [
              0.5555555555555556,
              "#d8576b"
             ],
             [
              0.6666666666666666,
              "#ed7953"
             ],
             [
              0.7777777777777778,
              "#fb9f3a"
             ],
             [
              0.8888888888888888,
              "#fdca26"
             ],
             [
              1,
              "#f0f921"
             ]
            ],
            "type": "heatmapgl"
           }
          ],
          "histogram": [
           {
            "marker": {
             "pattern": {
              "fillmode": "overlay",
              "size": 10,
              "solidity": 0.2
             }
            },
            "type": "histogram"
           }
          ],
          "histogram2d": [
           {
            "colorbar": {
             "outlinewidth": 0,
             "ticks": ""
            },
            "colorscale": [
             [
              0,
              "#0d0887"
             ],
             [
              0.1111111111111111,
              "#46039f"
             ],
             [
              0.2222222222222222,
              "#7201a8"
             ],
             [
              0.3333333333333333,
              "#9c179e"
             ],
             [
              0.4444444444444444,
              "#bd3786"
             ],
             [
              0.5555555555555556,
              "#d8576b"
             ],
             [
              0.6666666666666666,
              "#ed7953"
             ],
             [
              0.7777777777777778,
              "#fb9f3a"
             ],
             [
              0.8888888888888888,
              "#fdca26"
             ],
             [
              1,
              "#f0f921"
             ]
            ],
            "type": "histogram2d"
           }
          ],
          "histogram2dcontour": [
           {
            "colorbar": {
             "outlinewidth": 0,
             "ticks": ""
            },
            "colorscale": [
             [
              0,
              "#0d0887"
             ],
             [
              0.1111111111111111,
              "#46039f"
             ],
             [
              0.2222222222222222,
              "#7201a8"
             ],
             [
              0.3333333333333333,
              "#9c179e"
             ],
             [
              0.4444444444444444,
              "#bd3786"
             ],
             [
              0.5555555555555556,
              "#d8576b"
             ],
             [
              0.6666666666666666,
              "#ed7953"
             ],
             [
              0.7777777777777778,
              "#fb9f3a"
             ],
             [
              0.8888888888888888,
              "#fdca26"
             ],
             [
              1,
              "#f0f921"
             ]
            ],
            "type": "histogram2dcontour"
           }
          ],
          "mesh3d": [
           {
            "colorbar": {
             "outlinewidth": 0,
             "ticks": ""
            },
            "type": "mesh3d"
           }
          ],
          "parcoords": [
           {
            "line": {
             "colorbar": {
              "outlinewidth": 0,
              "ticks": ""
             }
            },
            "type": "parcoords"
           }
          ],
          "pie": [
           {
            "automargin": true,
            "type": "pie"
           }
          ],
          "scatter": [
           {
            "fillpattern": {
             "fillmode": "overlay",
             "size": 10,
             "solidity": 0.2
            },
            "type": "scatter"
           }
          ],
          "scatter3d": [
           {
            "line": {
             "colorbar": {
              "outlinewidth": 0,
              "ticks": ""
             }
            },
            "marker": {
             "colorbar": {
              "outlinewidth": 0,
              "ticks": ""
             }
            },
            "type": "scatter3d"
           }
          ],
          "scattercarpet": [
           {
            "marker": {
             "colorbar": {
              "outlinewidth": 0,
              "ticks": ""
             }
            },
            "type": "scattercarpet"
           }
          ],
          "scattergeo": [
           {
            "marker": {
             "colorbar": {
              "outlinewidth": 0,
              "ticks": ""
             }
            },
            "type": "scattergeo"
           }
          ],
          "scattergl": [
           {
            "marker": {
             "colorbar": {
              "outlinewidth": 0,
              "ticks": ""
             }
            },
            "type": "scattergl"
           }
          ],
          "scattermapbox": [
           {
            "marker": {
             "colorbar": {
              "outlinewidth": 0,
              "ticks": ""
             }
            },
            "type": "scattermapbox"
           }
          ],
          "scatterpolar": [
           {
            "marker": {
             "colorbar": {
              "outlinewidth": 0,
              "ticks": ""
             }
            },
            "type": "scatterpolar"
           }
          ],
          "scatterpolargl": [
           {
            "marker": {
             "colorbar": {
              "outlinewidth": 0,
              "ticks": ""
             }
            },
            "type": "scatterpolargl"
           }
          ],
          "scatterternary": [
           {
            "marker": {
             "colorbar": {
              "outlinewidth": 0,
              "ticks": ""
             }
            },
            "type": "scatterternary"
           }
          ],
          "surface": [
           {
            "colorbar": {
             "outlinewidth": 0,
             "ticks": ""
            },
            "colorscale": [
             [
              0,
              "#0d0887"
             ],
             [
              0.1111111111111111,
              "#46039f"
             ],
             [
              0.2222222222222222,
              "#7201a8"
             ],
             [
              0.3333333333333333,
              "#9c179e"
             ],
             [
              0.4444444444444444,
              "#bd3786"
             ],
             [
              0.5555555555555556,
              "#d8576b"
             ],
             [
              0.6666666666666666,
              "#ed7953"
             ],
             [
              0.7777777777777778,
              "#fb9f3a"
             ],
             [
              0.8888888888888888,
              "#fdca26"
             ],
             [
              1,
              "#f0f921"
             ]
            ],
            "type": "surface"
           }
          ],
          "table": [
           {
            "cells": {
             "fill": {
              "color": "#EBF0F8"
             },
             "line": {
              "color": "white"
             }
            },
            "header": {
             "fill": {
              "color": "#C8D4E3"
             },
             "line": {
              "color": "white"
             }
            },
            "type": "table"
           }
          ]
         },
         "layout": {
          "annotationdefaults": {
           "arrowcolor": "#2a3f5f",
           "arrowhead": 0,
           "arrowwidth": 1
          },
          "autotypenumbers": "strict",
          "coloraxis": {
           "colorbar": {
            "outlinewidth": 0,
            "ticks": ""
           }
          },
          "colorscale": {
           "diverging": [
            [
             0,
             "#8e0152"
            ],
            [
             0.1,
             "#c51b7d"
            ],
            [
             0.2,
             "#de77ae"
            ],
            [
             0.3,
             "#f1b6da"
            ],
            [
             0.4,
             "#fde0ef"
            ],
            [
             0.5,
             "#f7f7f7"
            ],
            [
             0.6,
             "#e6f5d0"
            ],
            [
             0.7,
             "#b8e186"
            ],
            [
             0.8,
             "#7fbc41"
            ],
            [
             0.9,
             "#4d9221"
            ],
            [
             1,
             "#276419"
            ]
           ],
           "sequential": [
            [
             0,
             "#0d0887"
            ],
            [
             0.1111111111111111,
             "#46039f"
            ],
            [
             0.2222222222222222,
             "#7201a8"
            ],
            [
             0.3333333333333333,
             "#9c179e"
            ],
            [
             0.4444444444444444,
             "#bd3786"
            ],
            [
             0.5555555555555556,
             "#d8576b"
            ],
            [
             0.6666666666666666,
             "#ed7953"
            ],
            [
             0.7777777777777778,
             "#fb9f3a"
            ],
            [
             0.8888888888888888,
             "#fdca26"
            ],
            [
             1,
             "#f0f921"
            ]
           ],
           "sequentialminus": [
            [
             0,
             "#0d0887"
            ],
            [
             0.1111111111111111,
             "#46039f"
            ],
            [
             0.2222222222222222,
             "#7201a8"
            ],
            [
             0.3333333333333333,
             "#9c179e"
            ],
            [
             0.4444444444444444,
             "#bd3786"
            ],
            [
             0.5555555555555556,
             "#d8576b"
            ],
            [
             0.6666666666666666,
             "#ed7953"
            ],
            [
             0.7777777777777778,
             "#fb9f3a"
            ],
            [
             0.8888888888888888,
             "#fdca26"
            ],
            [
             1,
             "#f0f921"
            ]
           ]
          },
          "colorway": [
           "#636efa",
           "#EF553B",
           "#00cc96",
           "#ab63fa",
           "#FFA15A",
           "#19d3f3",
           "#FF6692",
           "#B6E880",
           "#FF97FF",
           "#FECB52"
          ],
          "font": {
           "color": "#2a3f5f"
          },
          "geo": {
           "bgcolor": "white",
           "lakecolor": "white",
           "landcolor": "#E5ECF6",
           "showlakes": true,
           "showland": true,
           "subunitcolor": "white"
          },
          "hoverlabel": {
           "align": "left"
          },
          "hovermode": "closest",
          "mapbox": {
           "style": "light"
          },
          "paper_bgcolor": "white",
          "plot_bgcolor": "#E5ECF6",
          "polar": {
           "angularaxis": {
            "gridcolor": "white",
            "linecolor": "white",
            "ticks": ""
           },
           "bgcolor": "#E5ECF6",
           "radialaxis": {
            "gridcolor": "white",
            "linecolor": "white",
            "ticks": ""
           }
          },
          "scene": {
           "xaxis": {
            "backgroundcolor": "#E5ECF6",
            "gridcolor": "white",
            "gridwidth": 2,
            "linecolor": "white",
            "showbackground": true,
            "ticks": "",
            "zerolinecolor": "white"
           },
           "yaxis": {
            "backgroundcolor": "#E5ECF6",
            "gridcolor": "white",
            "gridwidth": 2,
            "linecolor": "white",
            "showbackground": true,
            "ticks": "",
            "zerolinecolor": "white"
           },
           "zaxis": {
            "backgroundcolor": "#E5ECF6",
            "gridcolor": "white",
            "gridwidth": 2,
            "linecolor": "white",
            "showbackground": true,
            "ticks": "",
            "zerolinecolor": "white"
           }
          },
          "shapedefaults": {
           "line": {
            "color": "#2a3f5f"
           }
          },
          "ternary": {
           "aaxis": {
            "gridcolor": "white",
            "linecolor": "white",
            "ticks": ""
           },
           "baxis": {
            "gridcolor": "white",
            "linecolor": "white",
            "ticks": ""
           },
           "bgcolor": "#E5ECF6",
           "caxis": {
            "gridcolor": "white",
            "linecolor": "white",
            "ticks": ""
           }
          },
          "title": {
           "x": 0.05
          },
          "xaxis": {
           "automargin": true,
           "gridcolor": "white",
           "linecolor": "white",
           "ticks": "",
           "title": {
            "standoff": 15
           },
           "zerolinecolor": "white",
           "zerolinewidth": 2
          },
          "yaxis": {
           "automargin": true,
           "gridcolor": "white",
           "linecolor": "white",
           "ticks": "",
           "title": {
            "standoff": 15
           },
           "zerolinecolor": "white",
           "zerolinewidth": 2
          }
         }
        },
        "title": {
         "text": "CO2 Emissions grouped by Fuel Type and Manufacturer"
        },
        "width": 1500
       }
      }
     },
     "metadata": {},
     "output_type": "display_data"
    }
   ],
   "source": [
    "\n",
    "fig=px.treemap(avg_by_fuel_type_df, path=['fuel','manufacturer'], values='co2_emissions_gPERkm',color='co2_emissions_gPERkm')\n",
    "fig.update_layout(\n",
    "    margin=dict(l=10,r=10,t=50,b=10),\n",
    "    autosize=False,\n",
    "    height=800,\n",
    "    width=1500,\n",
    "    title=(\"CO2 Emissions grouped by Fuel Type and Manufacturer\")\n",
    ")\n",
    "fig.show()"
   ]
  },
  {
   "cell_type": "code",
   "execution_count": null,
   "metadata": {},
   "outputs": [],
   "source": []
  }
 ],
 "metadata": {
  "kernelspec": {
   "display_name": "dev",
   "language": "python",
   "name": "python3"
  },
  "language_info": {
   "codemirror_mode": {
    "name": "ipython",
    "version": 3
   },
   "file_extension": ".py",
   "mimetype": "text/x-python",
   "name": "python",
   "nbconvert_exporter": "python",
   "pygments_lexer": "ipython3",
   "version": "3.10.14"
  }
 },
 "nbformat": 4,
 "nbformat_minor": 2
}
