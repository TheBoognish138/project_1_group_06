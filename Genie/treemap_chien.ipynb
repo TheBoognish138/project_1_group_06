{
 "cells": [
  {
   "cell_type": "code",
   "execution_count": 1,
   "metadata": {},
   "outputs": [
    {
     "name": "stdout",
     "output_type": "stream",
     "text": [
      "Collecting anytree\n",
      "  Downloading anytree-2.12.1-py3-none-any.whl.metadata (8.1 kB)\n",
      "Requirement already satisfied: six in c:\\users\\eugch\\anaconda3\\envs\\dev\\lib\\site-packages (from anytree) (1.16.0)\n",
      "Downloading anytree-2.12.1-py3-none-any.whl (44 kB)\n",
      "   ---------------------------------------- 0.0/44.9 kB ? eta -:--:--\n",
      "   --------------------------- ------------ 30.7/44.9 kB 1.3 MB/s eta 0:00:01\n",
      "   ---------------------------------------- 44.9/44.9 kB 1.1 MB/s eta 0:00:00\n",
      "Installing collected packages: anytree\n",
      "Successfully installed anytree-2.12.1\n"
     ]
    }
   ],
   "source": [
    "import json\n",
    "!pip install anytree\n",
    "from anytree import PostOrderIter\n",
    "from anytree.importer import DictImporter\n",
    "import ipywidgets as widgets\n",
    "import plotly.graph_objs as go\n",
    "import pandas as pd"
   ]
  },
  {
   "cell_type": "code",
   "execution_count": 2,
   "metadata": {},
   "outputs": [
    {
     "ename": "SyntaxError",
     "evalue": "invalid character '‘' (U+2018) (4036384191.py, line 1)",
     "output_type": "error",
     "traceback": [
      "\u001b[1;36m  Cell \u001b[1;32mIn[2], line 1\u001b[1;36m\u001b[0m\n\u001b[1;33m    with open(‘flare.json’) as f:\u001b[0m\n\u001b[1;37m              ^\u001b[0m\n\u001b[1;31mSyntaxError\u001b[0m\u001b[1;31m:\u001b[0m invalid character '‘' (U+2018)\n"
     ]
    }
   ],
   "source": [
    "with open(‘flare.json’) as f:\n",
    "   js_data = json.loads(f.read())"
   ]
  },
  {
   "cell_type": "code",
   "execution_count": null,
   "metadata": {},
   "outputs": [],
   "source": []
  }
 ],
 "metadata": {
  "kernelspec": {
   "display_name": "dev",
   "language": "python",
   "name": "python3"
  },
  "language_info": {
   "codemirror_mode": {
    "name": "ipython",
    "version": 3
   },
   "file_extension": ".py",
   "mimetype": "text/x-python",
   "name": "python",
   "nbconvert_exporter": "python",
   "pygments_lexer": "ipython3",
   "version": "3.10.14"
  }
 },
 "nbformat": 4,
 "nbformat_minor": 2
}
