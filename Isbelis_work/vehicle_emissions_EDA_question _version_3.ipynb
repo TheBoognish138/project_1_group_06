{
 "cells": [
  {
   "cell_type": "code",
   "execution_count": 1,
   "id": "99329bb9-db52-420b-b84e-9ed0b8271049",
   "metadata": {},
   "outputs": [],
   "source": [
    "#dependences\n",
    "import pandas as pd\n",
    "import numpy as np\n",
    "\n",
    "#visualizations\n",
    "import seaborn as sns\n",
    "from pathlib import Path\n",
    "from scipy import stats\n",
    "import matplotlib.pyplot as plt\n",
    "from scipy.stats import linregress\n",
    "\n",
    "# statistic tests ans regressions\n",
    "from scipy.stats import linregress\n",
    "from sklearn.linear_model import LinearRegression\n",
    "from sklearn.metrics import r2_score\n",
    "from scipy.stats import mannwhitneyu # test for not normally distribution"
   ]
  },
  {
   "cell_type": "code",
   "execution_count": 2,
   "id": "61ff4508-33cd-4dc9-9d04-38e695ba5569",
   "metadata": {},
   "outputs": [
    {
     "data": {
      "text/html": [
       "<div>\n",
       "<style scoped>\n",
       "    .dataframe tbody tr th:only-of-type {\n",
       "        vertical-align: middle;\n",
       "    }\n",
       "\n",
       "    .dataframe tbody tr th {\n",
       "        vertical-align: top;\n",
       "    }\n",
       "\n",
       "    .dataframe thead th {\n",
       "        text-align: right;\n",
       "    }\n",
       "</style>\n",
       "<table border=\"1\" class=\"dataframe\">\n",
       "  <thead>\n",
       "    <tr style=\"text-align: right;\">\n",
       "      <th></th>\n",
       "      <th>car_id</th>\n",
       "      <th>manufacturer</th>\n",
       "      <th>model</th>\n",
       "      <th>description</th>\n",
       "      <th>transmission</th>\n",
       "      <th>transmission_type</th>\n",
       "      <th>engine_size_cm3</th>\n",
       "      <th>fuel</th>\n",
       "      <th>powertrain</th>\n",
       "      <th>power_ps</th>\n",
       "      <th>co2_emissions_gPERkm</th>\n",
       "    </tr>\n",
       "  </thead>\n",
       "  <tbody>\n",
       "    <tr>\n",
       "      <th>0</th>\n",
       "      <td>1.0</td>\n",
       "      <td>ABARTH</td>\n",
       "      <td>595</td>\n",
       "      <td>1.4 TJET 145bhp</td>\n",
       "      <td>M5</td>\n",
       "      <td>Manual</td>\n",
       "      <td>1368.0</td>\n",
       "      <td>Petrol</td>\n",
       "      <td>Internal Combustion Engine (ICE)</td>\n",
       "      <td>145.0</td>\n",
       "      <td>161.0</td>\n",
       "    </tr>\n",
       "    <tr>\n",
       "      <th>1</th>\n",
       "      <td>2.0</td>\n",
       "      <td>ABARTH</td>\n",
       "      <td>595</td>\n",
       "      <td>1.4 TJET 145bhp</td>\n",
       "      <td>M5</td>\n",
       "      <td>Manual</td>\n",
       "      <td>1368.0</td>\n",
       "      <td>Petrol</td>\n",
       "      <td>Internal Combustion Engine (ICE)</td>\n",
       "      <td>145.0</td>\n",
       "      <td>153.0</td>\n",
       "    </tr>\n",
       "    <tr>\n",
       "      <th>2</th>\n",
       "      <td>3.0</td>\n",
       "      <td>ABARTH</td>\n",
       "      <td>595</td>\n",
       "      <td>595 1.4 145 BHP</td>\n",
       "      <td>M5</td>\n",
       "      <td>Manual</td>\n",
       "      <td>1368.0</td>\n",
       "      <td>Petrol</td>\n",
       "      <td>Internal Combustion Engine (ICE)</td>\n",
       "      <td>145.0</td>\n",
       "      <td>169.0</td>\n",
       "    </tr>\n",
       "    <tr>\n",
       "      <th>3</th>\n",
       "      <td>4.0</td>\n",
       "      <td>ABARTH</td>\n",
       "      <td>595</td>\n",
       "      <td>595 1.4 145 BHP</td>\n",
       "      <td>M5</td>\n",
       "      <td>Manual</td>\n",
       "      <td>1368.0</td>\n",
       "      <td>Petrol</td>\n",
       "      <td>Internal Combustion Engine (ICE)</td>\n",
       "      <td>145.0</td>\n",
       "      <td>162.0</td>\n",
       "    </tr>\n",
       "    <tr>\n",
       "      <th>4</th>\n",
       "      <td>5.0</td>\n",
       "      <td>ABARTH</td>\n",
       "      <td>595</td>\n",
       "      <td>595 1.4 145 BHP Convertible</td>\n",
       "      <td>M5</td>\n",
       "      <td>Manual</td>\n",
       "      <td>1368.0</td>\n",
       "      <td>Petrol</td>\n",
       "      <td>Internal Combustion Engine (ICE)</td>\n",
       "      <td>145.0</td>\n",
       "      <td>169.0</td>\n",
       "    </tr>\n",
       "  </tbody>\n",
       "</table>\n",
       "</div>"
      ],
      "text/plain": [
       "   car_id manufacturer model                  description transmission  \\\n",
       "0     1.0       ABARTH   595              1.4 TJET 145bhp           M5   \n",
       "1     2.0       ABARTH   595              1.4 TJET 145bhp           M5   \n",
       "2     3.0       ABARTH   595             595 1.4 145 BHP            M5   \n",
       "3     4.0       ABARTH   595              595 1.4 145 BHP           M5   \n",
       "4     5.0       ABARTH   595  595 1.4 145 BHP Convertible           M5   \n",
       "\n",
       "  transmission_type  engine_size_cm3    fuel  \\\n",
       "0            Manual           1368.0  Petrol   \n",
       "1            Manual           1368.0  Petrol   \n",
       "2            Manual           1368.0  Petrol   \n",
       "3            Manual           1368.0  Petrol   \n",
       "4            Manual           1368.0  Petrol   \n",
       "\n",
       "                         powertrain  power_ps  co2_emissions_gPERkm  \n",
       "0  Internal Combustion Engine (ICE)     145.0                 161.0  \n",
       "1  Internal Combustion Engine (ICE)     145.0                 153.0  \n",
       "2  Internal Combustion Engine (ICE)     145.0                 169.0  \n",
       "3  Internal Combustion Engine (ICE)     145.0                 162.0  \n",
       "4  Internal Combustion Engine (ICE)     145.0                 169.0  "
      ]
     },
     "execution_count": 2,
     "metadata": {},
     "output_type": "execute_result"
    }
   ],
   "source": [
    "\n",
    "# Define the path to the CSV file\n",
    "file = \"Resources/uk_gov_data_sparse_preproc.csv\"\n",
    "\n",
    "# Read the CSV file into a DataFrame\n",
    "df_raw = pd.read_csv(file, encoding=\"ISO-8859-1\")\n",
    "\n",
    "# Create a copy of the DataFrame\n",
    "\n",
    "\n",
    "# Display the first 4 rows of the DataFrame\n",
    "df_raw.head()"
   ]
  },
  {
   "cell_type": "code",
   "execution_count": 3,
   "id": "9a535d5e-0dbb-43b9-81a8-f6ff525fe6a4",
   "metadata": {},
   "outputs": [
    {
     "data": {
      "text/plain": [
       "car_id                    0\n",
       "manufacturer              0\n",
       "model                     0\n",
       "description               0\n",
       "transmission            147\n",
       "transmission_type         0\n",
       "engine_size_cm3           1\n",
       "fuel                      0\n",
       "powertrain                0\n",
       "power_ps                 44\n",
       "co2_emissions_gPERkm      0\n",
       "dtype: int64"
      ]
     },
     "execution_count": 3,
     "metadata": {},
     "output_type": "execute_result"
    }
   ],
   "source": [
    "# look at missing value\n",
    "df_raw.isnull().sum()"
   ]
  },
  {
   "cell_type": "code",
   "execution_count": 4,
   "id": "a6696562-a77f-48f6-9b83-982d415de311",
   "metadata": {},
   "outputs": [
    {
     "data": {
      "text/plain": [
       "0       False\n",
       "1       False\n",
       "2       False\n",
       "3       False\n",
       "4       False\n",
       "        ...  \n",
       "6751    False\n",
       "6752    False\n",
       "6753    False\n",
       "6754    False\n",
       "6755    False\n",
       "Length: 6756, dtype: bool"
      ]
     },
     "execution_count": 4,
     "metadata": {},
     "output_type": "execute_result"
    }
   ],
   "source": [
    "# look at duplcated value\n",
    "df_raw.duplicated()"
   ]
  },
  {
   "cell_type": "code",
   "execution_count": 5,
   "id": "43979721-225a-4bd6-8473-b97c25d25275",
   "metadata": {},
   "outputs": [
    {
     "name": "stdout",
     "output_type": "stream",
     "text": [
      "<class 'pandas.core.frame.DataFrame'>\n",
      "Index: 6654 entries, 0 to 6755\n",
      "Data columns (total 11 columns):\n",
      " #   Column                Non-Null Count  Dtype  \n",
      "---  ------                --------------  -----  \n",
      " 0   car_id                6654 non-null   float64\n",
      " 1   manufacturer          6654 non-null   object \n",
      " 2   model                 6654 non-null   object \n",
      " 3   description           6654 non-null   object \n",
      " 4   transmission          6608 non-null   object \n",
      " 5   transmission_type     6654 non-null   object \n",
      " 6   engine_size_cm3       6654 non-null   float64\n",
      " 7   fuel                  6654 non-null   object \n",
      " 8   powertrain            6654 non-null   object \n",
      " 9   power_ps              6618 non-null   float64\n",
      " 10  co2_emissions_gPERkm  6654 non-null   float64\n",
      "dtypes: float64(4), object(7)\n",
      "memory usage: 623.8+ KB\n"
     ]
    }
   ],
   "source": [
    "# Locate, Identify, and drop car ID's with an electric transmission (they dont emit co2)\n",
    "e_transmission_i = df_raw[(df_raw.transmission_type == \"Electric - Not Applicable\")].index\n",
    "df_emissions_raw = df_raw.drop(e_transmission_i)\n",
    "df_emissions_raw.info()"
   ]
  },
  {
   "cell_type": "code",
   "execution_count": 6,
   "id": "acd884e8-f33b-42aa-8928-07f3477f40f7",
   "metadata": {},
   "outputs": [
    {
     "name": "stdout",
     "output_type": "stream",
     "text": [
      "<class 'pandas.core.frame.DataFrame'>\n",
      "Index: 6642 entries, 0 to 6755\n",
      "Data columns (total 11 columns):\n",
      " #   Column                Non-Null Count  Dtype  \n",
      "---  ------                --------------  -----  \n",
      " 0   car_id                6642 non-null   float64\n",
      " 1   manufacturer          6642 non-null   object \n",
      " 2   model                 6642 non-null   object \n",
      " 3   description           6642 non-null   object \n",
      " 4   transmission          6597 non-null   object \n",
      " 5   transmission_type     6642 non-null   object \n",
      " 6   engine_size_cm3       6642 non-null   float64\n",
      " 7   fuel                  6642 non-null   object \n",
      " 8   powertrain            6642 non-null   object \n",
      " 9   power_ps              6606 non-null   float64\n",
      " 10  co2_emissions_gPERkm  6642 non-null   float64\n",
      "dtypes: float64(4), object(7)\n",
      "memory usage: 622.7+ KB\n"
     ]
    }
   ],
   "source": [
    "null_ps = df_emissions_raw[(df_emissions_raw.power_ps == 0)].index\n",
    "df_emissions = df_emissions_raw.drop(null_ps)\n",
    "df_emissions.info()"
   ]
  },
  {
   "cell_type": "code",
   "execution_count": 7,
   "id": "42d090f2-b3e1-467e-961d-8d8a2bd6d19a",
   "metadata": {},
   "outputs": [
    {
     "name": "stdout",
     "output_type": "stream",
     "text": [
      "<class 'pandas.core.frame.DataFrame'>\n",
      "Index: 6606 entries, 0 to 6755\n",
      "Data columns (total 11 columns):\n",
      " #   Column                Non-Null Count  Dtype  \n",
      "---  ------                --------------  -----  \n",
      " 0   car_id                6606 non-null   float64\n",
      " 1   manufacturer          6606 non-null   object \n",
      " 2   model                 6606 non-null   object \n",
      " 3   description           6606 non-null   object \n",
      " 4   transmission          6563 non-null   object \n",
      " 5   transmission_type     6606 non-null   object \n",
      " 6   engine_size_cm3       6606 non-null   float64\n",
      " 7   fuel                  6606 non-null   object \n",
      " 8   powertrain            6606 non-null   object \n",
      " 9   power_ps              6606 non-null   float64\n",
      " 10  co2_emissions_gPERkm  6606 non-null   float64\n",
      "dtypes: float64(4), object(7)\n",
      "memory usage: 619.3+ KB\n"
     ]
    }
   ],
   "source": [
    "df_emissions1 = df_emissions.dropna(subset=[\"power_ps\"])\n",
    "df_emissions1.info()"
   ]
  },
  {
   "cell_type": "code",
   "execution_count": 8,
   "id": "af3fbb21-c9fc-4bdf-8973-953bcee2b39c",
   "metadata": {},
   "outputs": [
    {
     "name": "stdout",
     "output_type": "stream",
     "text": [
      "<class 'pandas.core.frame.DataFrame'>\n",
      "Index: 6542 entries, 0 to 6755\n",
      "Data columns (total 11 columns):\n",
      " #   Column                Non-Null Count  Dtype  \n",
      "---  ------                --------------  -----  \n",
      " 0   car_id                6542 non-null   float64\n",
      " 1   manufacturer          6542 non-null   object \n",
      " 2   model                 6542 non-null   object \n",
      " 3   description           6542 non-null   object \n",
      " 4   transmission          6542 non-null   object \n",
      " 5   transmission_type     6542 non-null   object \n",
      " 6   engine_size_cm3       6542 non-null   float64\n",
      " 7   fuel                  6542 non-null   object \n",
      " 8   powertrain            6542 non-null   object \n",
      " 9   power_ps              6542 non-null   float64\n",
      " 10  co2_emissions_gPERkm  6542 non-null   float64\n",
      "dtypes: float64(4), object(7)\n",
      "memory usage: 613.3+ KB\n"
     ]
    }
   ],
   "source": [
    "null_emissions = df_emissions1[(df_emissions1.co2_emissions_gPERkm == 0)].index\n",
    "df_emissions_clean = df_emissions1.drop(null_emissions)\n",
    "df_emissions_clean.info()"
   ]
  },
  {
   "cell_type": "code",
   "execution_count": 9,
   "id": "7402232e-7fa8-4f92-821b-e87a3177c195",
   "metadata": {},
   "outputs": [],
   "source": [
    "##Question 3: Are CO2 emissions different depending on the type of vehicle transmission?"
   ]
  },
  {
   "cell_type": "code",
   "execution_count": 10,
   "id": "b8380565-cdfd-41c0-a51a-f2b82eaf845b",
   "metadata": {},
   "outputs": [],
   "source": [
    "## Descriptive data "
   ]
  },
  {
   "cell_type": "code",
   "execution_count": 11,
   "id": "6f13e973-f0c0-4dc3-bbdd-1b23b2b49b06",
   "metadata": {},
   "outputs": [
    {
     "data": {
      "image/png": "[encoded data removed]",
      "text/plain": [
       "<Figure size 800x600 with 1 Axes>"
      ]
     },
     "metadata": {},
     "output_type": "display_data"
    }
   ],
   "source": [
    "# Step 1: Get the data\n",
    "data = df_emissions_clean.transmission_type.value_counts()\n",
    "colors = [\"#a31621\", \"#e9c46a\", \"#5579c6\", \"#1f7a8c\", \"#db222a\", \"#708238\", \"#a8e4a0\"]\n",
    "# Step 2: Make the canvas\n",
    "plt.figure(figsize=(8, 6))\n",
    "\n",
    "# Step 3: Make the plot\n",
    "patches, texts = plt.pie(data, colors=colors, shadow=False, startangle=90)\n",
    "\n",
    "# Step 3.5: Add in the donut hole\n",
    "# draw circle\n",
    "center_circle = plt.Circle((0, 0), 0.70, fc='white')\n",
    "fig = plt.gcf()\n",
    " \n",
    "# Adding Circle in Pie chart\n",
    "fig.gca().add_artist(center_circle)\n",
    "\n",
    "# finding percentages\n",
    "percentages = data.to_numpy() * 100 / data.to_numpy().sum()\n",
    "\n",
    "# Step 4: Customizations\n",
    "plt.title(\"Distribution of Transmission Types\", fontweight=\"bold\", fontsize=16)\n",
    "plt.legend(handles=patches, loc=\"best\", labels = [f'{l}, {s:0.1f}%' for l, s in zip(data.index, percentages)])\n",
    "plt.axis(\"equal\")\n",
    "\n",
    "# Step 5: Save/Show\n",
    "plt.show()"
   ]
  },
  {
   "cell_type": "code",
   "execution_count": 12,
   "id": "7f74f3ad-23f6-4430-8a7b-f680e208e723",
   "metadata": {},
   "outputs": [
    {
     "data": {
      "text/plain": [
       "transmission_type\n",
       "Automatic    4251\n",
       "Manual       2291\n",
       "Name: count, dtype: int64"
      ]
     },
     "execution_count": 12,
     "metadata": {},
     "output_type": "execute_result"
    }
   ],
   "source": [
    "data.head()"
   ]
  },
  {
   "cell_type": "code",
   "execution_count": 13,
   "id": "c82dcb10-45a3-4e36-af68-d50302c4a510",
   "metadata": {},
   "outputs": [
    {
     "name": "stdout",
     "output_type": "stream",
     "text": [
      "CO2 emissions for Manual transmission type are not normally distributed\n",
      "CO2 emissions for Automatic transmission type are not normally distributed\n"
     ]
    }
   ],
   "source": [
    "# Identify distribution of data\n",
    "transmission_types = df_emissions_clean['transmission_type'].unique()\n",
    "transmission_types\n",
    "\n",
    "for transmission in transmission_types:\n",
    "    data = df_emissions_clean[df_emissions_clean['transmission_type'] != transmission]['co2_emissions_gPERkm']\n",
    "        \n",
    "        # Test for normality using Shapiro-Wilk test\n",
    "    stat, p = stats.shapiro(data)\n",
    "    alpha = 0.05\n",
    "    if p > alpha:\n",
    "     print(f\"CO2 emissions for {transmission} transmission type are normally distributed\")\n",
    "    else:\n",
    "     print(f\"CO2 emissions for {transmission} transmission type are not normally distributed\")"
   ]
  },
  {
   "cell_type": "code",
   "execution_count": 14,
   "id": "be96b4dc-8f75-485a-be89-3b9e93a0e2b5",
   "metadata": {},
   "outputs": [
    {
     "data": {
      "image/png": "[encoded data removed]",
      "text/plain": [
       "<Figure size 640x480 with 1 Axes>"
      ]
     },
     "metadata": {},
     "output_type": "display_data"
    }
   ],
   "source": [
    "sns.violinplot(x='transmission_type', y='co2_emissions_gPERkm', data=df_emissions_clean,width=1, palette=[\"#5579c6\",\"#db222a\"])\n",
    "plt.title('CO2 Emissions by Transmission Type')\n",
    "plt.xlabel('Transmission Type')\n",
    "plt.ylabel('CO2 Emissions (g/km)')\n",
    "plt.show()"
   ]
  },
  {
   "cell_type": "code",
   "execution_count": 15,
   "id": "307bf433-6168-4381-a4f8-8bd59a06dbb0",
   "metadata": {},
   "outputs": [],
   "source": [
    "# Separate data by transmission type\n",
    "manual = df_emissions_clean[df_emissions_clean['transmission_type'] == 'Manual']['co2_emissions_gPERkm']\n",
    "automatic =df_emissions_clean[df_emissions_clean[\"transmission_type\"] == \"Automatic\"]['co2_emissions_gPERkm']"
   ]
  },
  {
   "cell_type": "code",
   "execution_count": 16,
   "id": "dd93e85d-1e16-4c50-ae9b-654990a0ced2",
   "metadata": {},
   "outputs": [
    {
     "name": "stdout",
     "output_type": "stream",
     "text": [
      "Mann-Whitney U test: U statistic=3228420.0, p-value=2.5442776070750575e-112\n"
     ]
    }
   ],
   "source": [
    "#Mann-Whitney U test: Suitable for comparing the distributions of two independent groups\n",
    "u_stat, u_p_value = mannwhitneyu(manual, automatic)\n",
    "print(f'Mann-Whitney U test: U statistic={u_stat}, p-value={u_p_value}')"
   ]
  },
  {
   "cell_type": "code",
   "execution_count": 17,
   "id": "0cec8522-d46f-4ac1-9ef9-a9db208f4884",
   "metadata": {},
   "outputs": [],
   "source": [
    "### Discussion of Mann-Whitney U test \n",
    "###The test result gives information that there is a highly significant difference in CO2 emissions between manual and automatic transmissions. This implies that the type of transmission has a substantial impact on CO2 emissions. "
   ]
  }
 ],
 "metadata": {
  "kernelspec": {
   "display_name": "Python 3 (ipykernel)",
   "language": "python",
   "name": "python3"
  },
  "language_info": {
   "codemirror_mode": {
    "name": "ipython",
    "version": 3
   },
   "file_extension": ".py",
   "mimetype": "text/x-python",
   "name": "python",
   "nbconvert_exporter": "python",
   "pygments_lexer": "ipython3",
   "version": "3.10.14"
  }
 },
 "nbformat": 4,
 "nbformat_minor": 5
}
